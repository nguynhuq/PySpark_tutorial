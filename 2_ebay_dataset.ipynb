{
 "cells": [
  {
   "cell_type": "markdown",
   "metadata": {},
   "source": [
    "# Processing Tabular Data with Spark SQL"
   ]
  },
  {
   "cell_type": "markdown",
   "metadata": {},
   "source": [
    "The dataset to be used is from eBay online auctions. The eBay online auction dataset contains the following fields:\n",
    "\n",
    "    auctionid - unique identifier of an auction\n",
    "    bid - the proxy bid placed by a bidder\n",
    "    bidtime - the time (in days) that the bid was placed, from the start of the auction\n",
    "    bidder - eBay username of the bidder\n",
    "    bidderrate - eBay feedback rating of the bidder\n",
    "    openbid - the opening bid set by the seller\n",
    "    price - the closing price that the item sold for (equivalent to the second highest bid + an increment)\n"
   ]
  },
  {
   "cell_type": "markdown",
   "metadata": {},
   "source": [
    "Using Spark DataFrames, we will explore the eBay data with questions like:\n",
    "\n",
    "    How many auctions were held?\n",
    "    How many bids were made per item?\n",
    "    What's the minimum, maximum, and average number of bids per item?\n",
    "    Show the bids with price > 100\n"
   ]
  },
  {
   "cell_type": "markdown",
   "metadata": {},
   "source": [
    "Start by loading the data from the ebay.csv file into a Resilient Distributed Dataset (RDD). RDDs have transformations and actions; the first() action returns the first element in the RDD:"
   ]
  },
  {
   "cell_type": "code",
   "execution_count": 98,
   "metadata": {},
   "outputs": [],
   "source": [
    "from pyspark import SparkContext\n",
    "from pyspark.sql import SparkSession\n",
    "from pyspark.sql.types import *\n",
    "from pyspark.sql import Row\n",
    "\n",
    "sc = SparkContext.getOrCreate()\n",
    "spark = SparkSession(sc)"
   ]
  },
  {
   "cell_type": "code",
   "execution_count": 99,
   "metadata": {},
   "outputs": [
    {
     "data": {
      "text/plain": [
       "u'8213034705,95,2.927373,jake7870,0,95,117.5,xbox,3'"
      ]
     },
     "execution_count": 99,
     "metadata": {},
     "output_type": "execute_result"
    }
   ],
   "source": [
    "# load the data into a new RDD\n",
    "ebay_text = sc.textFile(\"./raw/ebay.csv\")\n",
    "\n",
    "# Return the first element in this RDD\n",
    "ebay_text.first()"
   ]
  },
  {
   "cell_type": "markdown",
   "metadata": {},
   "source": [
    "Now we need to define the Auction schema corresponding to the ebay.csv file. Then a map() transformation is applied to each element of ebayText to create the ebay RDD of Auction objects."
   ]
  },
  {
   "cell_type": "code",
   "execution_count": 100,
   "metadata": {},
   "outputs": [],
   "source": [
    "# Define the schema using StructType\n",
    "ebay_schema = StructType([StructField(\"auctionid\", StringType(), False),\n",
    "                             StructField(\"bid\", FloatType(), False),\n",
    "                             StructField(\"bidtime\", FloatType()),\n",
    "                             StructField(\"bidder\", StringType()),\n",
    "                             StructField(\"bidderrate\", IntegerType()),\n",
    "                             StructField(\"openbid\", FloatType()),\n",
    "                             StructField(\"price\", FloatType()),\n",
    "                             StructField(\"item\", StringType()),\n",
    "                             StructField(\"daystolive\", IntegerType())\n",
    "                            ])\n",
    "\n",
    "# create an RDD of Auction objects\n",
    "# convert each line of csv file to a Row\n",
    "ebay_rdd = ebay_text.map(lambda line: line.split(\",\")) \\\n",
    "                    .map(lambda p: Row(auctionid=p[0], bid=float(p[1]),\n",
    "                                       bidtime=float(p[2]), bidder=p[3],\n",
    "                                       bidderrate=int(p[4]), openbid=float(p[5]),\n",
    "                                       price=float(p[6]), item=p[7], daystolive=int(p[8])))\n",
    "# Create a DataFrame from RDD and schema\n",
    "ebay_df = spark.createDataFrame(ebay_rdd, ebay_schema)\n",
    "\n",
    "# Another way to create DataFrame \n",
    "#ebay_df = ebay_rdd.toDF(['auctionid', 'bid', 'bidtime', 'bidder', 'bidderrate', 'openbid', 'price', 'item', 'daystolive'])"
   ]
  },
  {
   "cell_type": "code",
   "execution_count": 101,
   "metadata": {},
   "outputs": [
    {
     "name": "stdout",
     "output_type": "stream",
     "text": [
      "+----------+-----+--------+--------------+----------+-------+-----+----+----------+\n",
      "| auctionid|  bid| bidtime|        bidder|bidderrate|openbid|price|item|daystolive|\n",
      "+----------+-----+--------+--------------+----------+-------+-----+----+----------+\n",
      "|8213034705| 95.0|2.927373|      jake7870|         0|   95.0|117.5|xbox|         3|\n",
      "|8213034705|115.0|2.943484| davidbresler2|         1|   95.0|117.5|xbox|         3|\n",
      "|8213034705|100.0|2.951285|gladimacowgirl|        58|   95.0|117.5|xbox|         3|\n",
      "|8213034705|117.5|2.998947|       daysrus|        10|   95.0|117.5|xbox|         3|\n",
      "|8213060420|  2.0|0.065266|    donnie4814|         5|    1.0|120.0|xbox|         3|\n",
      "|8213060420|15.25|0.123218|   myreeceyboy|        52|    1.0|120.0|xbox|         3|\n",
      "|8213060420|  3.0|0.186539|  parakeet2004|         5|    1.0|120.0|xbox|         3|\n",
      "|8213060420| 10.0| 0.18669|  parakeet2004|         5|    1.0|120.0|xbox|         3|\n",
      "|8213060420|24.99|0.187049|  parakeet2004|         5|    1.0|120.0|xbox|         3|\n",
      "|8213060420| 20.0|0.249491| bluebubbles_1|        25|    1.0|120.0|xbox|         3|\n",
      "|8213060420| 22.0| 0.24956| bluebubbles_1|        25|    1.0|120.0|xbox|         3|\n",
      "|8213060420| 24.0|0.249653| bluebubbles_1|        25|    1.0|120.0|xbox|         3|\n",
      "|8213060420| 26.0|0.249757| bluebubbles_1|        25|    1.0|120.0|xbox|         3|\n",
      "|8213060420| 80.0| 0.59059|        sa4741|         3|    1.0|120.0|xbox|         3|\n",
      "|8213060420| 75.0|0.657384|     jhnsn2273|        51|    1.0|120.0|xbox|         3|\n",
      "|8213060420| 85.0|0.657917|     jhnsn2273|        51|    1.0|120.0|xbox|         3|\n",
      "|8213060420| 83.0|0.816447|        sa4741|         3|    1.0|120.0|xbox|         3|\n",
      "|8213060420|100.0|1.005903|        sa4741|         3|    1.0|120.0|xbox|         3|\n",
      "|8213060420|100.0|1.012697|     jhnsn2273|        51|    1.0|120.0|xbox|         3|\n",
      "|8213060420|110.0|1.013056|     jhnsn2273|        51|    1.0|120.0|xbox|         3|\n",
      "+----------+-----+--------+--------------+----------+-------+-----+----+----------+\n",
      "only showing top 20 rows\n",
      "\n"
     ]
    }
   ],
   "source": [
    "#Show top 20 rows of ebay_df DataFrame\n",
    "ebay_df.show()"
   ]
  },
  {
   "cell_type": "code",
   "execution_count": 102,
   "metadata": {},
   "outputs": [
    {
     "name": "stdout",
     "output_type": "stream",
     "text": [
      "root\n",
      " |-- auctionid: string (nullable = false)\n",
      " |-- bid: float (nullable = false)\n",
      " |-- bidtime: float (nullable = true)\n",
      " |-- bidder: string (nullable = true)\n",
      " |-- bidderrate: integer (nullable = true)\n",
      " |-- openbid: float (nullable = true)\n",
      " |-- price: float (nullable = true)\n",
      " |-- item: string (nullable = true)\n",
      " |-- daystolive: integer (nullable = true)\n",
      "\n"
     ]
    }
   ],
   "source": [
    "# Display the schema of this DataFrame\n",
    "ebay_df.printSchema()"
   ]
  },
  {
   "cell_type": "code",
   "execution_count": 103,
   "metadata": {},
   "outputs": [
    {
     "data": {
      "text/plain": [
       "627"
      ]
     },
     "execution_count": 103,
     "metadata": {},
     "output_type": "execute_result"
    }
   ],
   "source": [
    "# How many auctions were held?\n",
    "ebay_df.select(ebay_df.auctionid).distinct().count()\n",
    "\n",
    "#Another way to compute the number of auctions\n",
    "#from pyspark.sql.functions import *\n",
    "#ebay_df.agg(countDistinct(ebay_df.auctionid)).collect()"
   ]
  },
  {
   "cell_type": "code",
   "execution_count": 104,
   "metadata": {},
   "outputs": [
    {
     "name": "stdout",
     "output_type": "stream",
     "text": [
      "+----------+-------+-----+\n",
      "| auctionid|   item|count|\n",
      "+----------+-------+-----+\n",
      "|1645883276|cartier|   12|\n",
      "|1641242797|cartier|    5|\n",
      "|1642005995|cartier|   18|\n",
      "|3020060476|   palm|   22|\n",
      "|1644681469|cartier|   14|\n",
      "|8212145833|   xbox|   26|\n",
      "|1638844464|cartier|   16|\n",
      "|3020573049|   palm|    2|\n",
      "|3015632013|   palm|   28|\n",
      "|3024659380|   palm|   26|\n",
      "|3025373736|   palm|   15|\n",
      "|8213387659|   xbox|   25|\n",
      "|1643201832|cartier|    4|\n",
      "|3014834745|   palm|   21|\n",
      "|3020257463|   palm|   16|\n",
      "|3020274575|   palm|   11|\n",
      "|3019821569|   palm|   27|\n",
      "|3024707992|   palm|   20|\n",
      "|8212277835|   xbox|    3|\n",
      "|3019326870|   palm|   33|\n",
      "+----------+-------+-----+\n",
      "only showing top 20 rows\n",
      "\n"
     ]
    }
   ],
   "source": [
    "# How many bids per item?\n",
    "ebay_df.groupBy('auctionid', 'item').count().show()"
   ]
  },
  {
   "cell_type": "code",
   "execution_count": 105,
   "metadata": {},
   "outputs": [
    {
     "name": "stdout",
     "output_type": "stream",
     "text": [
      "+----------+-----+--------+--------------+----------+-------+-----+----+----------+\n",
      "| auctionid|  bid| bidtime|        bidder|bidderrate|openbid|price|item|daystolive|\n",
      "+----------+-----+--------+--------------+----------+-------+-----+----+----------+\n",
      "|8213034705| 95.0|2.927373|      jake7870|         0|   95.0|117.5|xbox|         3|\n",
      "|8213034705|115.0|2.943484| davidbresler2|         1|   95.0|117.5|xbox|         3|\n",
      "|8213034705|100.0|2.951285|gladimacowgirl|        58|   95.0|117.5|xbox|         3|\n",
      "|8213034705|117.5|2.998947|       daysrus|        10|   95.0|117.5|xbox|         3|\n",
      "|8213060420|  2.0|0.065266|    donnie4814|         5|    1.0|120.0|xbox|         3|\n",
      "|8213060420|15.25|0.123218|   myreeceyboy|        52|    1.0|120.0|xbox|         3|\n",
      "|8213060420|  3.0|0.186539|  parakeet2004|         5|    1.0|120.0|xbox|         3|\n",
      "|8213060420| 10.0| 0.18669|  parakeet2004|         5|    1.0|120.0|xbox|         3|\n",
      "|8213060420|24.99|0.187049|  parakeet2004|         5|    1.0|120.0|xbox|         3|\n",
      "|8213060420| 20.0|0.249491| bluebubbles_1|        25|    1.0|120.0|xbox|         3|\n",
      "|8213060420| 22.0| 0.24956| bluebubbles_1|        25|    1.0|120.0|xbox|         3|\n",
      "|8213060420| 24.0|0.249653| bluebubbles_1|        25|    1.0|120.0|xbox|         3|\n",
      "|8213060420| 26.0|0.249757| bluebubbles_1|        25|    1.0|120.0|xbox|         3|\n",
      "|8213060420| 80.0| 0.59059|        sa4741|         3|    1.0|120.0|xbox|         3|\n",
      "|8213060420| 75.0|0.657384|     jhnsn2273|        51|    1.0|120.0|xbox|         3|\n",
      "|8213060420| 85.0|0.657917|     jhnsn2273|        51|    1.0|120.0|xbox|         3|\n",
      "|8213060420| 83.0|0.816447|        sa4741|         3|    1.0|120.0|xbox|         3|\n",
      "|8213060420|100.0|1.005903|        sa4741|         3|    1.0|120.0|xbox|         3|\n",
      "|8213060420|100.0|1.012697|     jhnsn2273|        51|    1.0|120.0|xbox|         3|\n",
      "|8213060420|110.0|1.013056|     jhnsn2273|        51|    1.0|120.0|xbox|         3|\n",
      "+----------+-----+--------+--------------+----------+-------+-----+----+----------+\n",
      "only showing top 20 rows\n",
      "\n"
     ]
    }
   ],
   "source": [
    "# Get the auctions with closing price > 100\n",
    "highprice = ebay_df.filter(\"price > 100\")\n",
    "\n",
    "# display dataframe in a tabular format\n",
    "highprice.show()"
   ]
  },
  {
   "cell_type": "code",
   "execution_count": 106,
   "metadata": {},
   "outputs": [
    {
     "name": "stdout",
     "output_type": "stream",
     "text": [
      "+----------+-------+----------+\n",
      "| auctionid|   item|count(bid)|\n",
      "+----------+-------+----------+\n",
      "|1645883276|cartier|        12|\n",
      "|1641242797|cartier|         5|\n",
      "|1642005995|cartier|        18|\n",
      "|3020060476|   palm|        22|\n",
      "|1644681469|cartier|        14|\n",
      "|8212145833|   xbox|        26|\n",
      "|1638844464|cartier|        16|\n",
      "|3020573049|   palm|         2|\n",
      "|3015632013|   palm|        28|\n",
      "|3024659380|   palm|        26|\n",
      "|3025373736|   palm|        15|\n",
      "|8213387659|   xbox|        25|\n",
      "|1643201832|cartier|         4|\n",
      "|3014834745|   palm|        21|\n",
      "|3020257463|   palm|        16|\n",
      "|3020274575|   palm|        11|\n",
      "|3019821569|   palm|        27|\n",
      "|3024707992|   palm|        20|\n",
      "|8212277835|   xbox|         3|\n",
      "|3019326870|   palm|        33|\n",
      "+----------+-------+----------+\n",
      "only showing top 20 rows\n",
      "\n",
      "+----------+----------+\n",
      "| auctionid|max(price)|\n",
      "+----------+----------+\n",
      "|8212264580|    127.51|\n",
      "|1649848613|    1100.0|\n",
      "|1647870862|    1250.0|\n",
      "|1639425502|     224.5|\n",
      "|8211480551|     311.6|\n",
      "|8214749544|     119.5|\n",
      "|3014844871|     210.0|\n",
      "|3013839128|    251.11|\n",
      "|3024307014|     202.5|\n",
      "|3015592850|    231.02|\n",
      "|3013787547|     231.5|\n",
      "|3017456210|     232.5|\n",
      "|3019173309|     230.0|\n",
      "|8215125069|     85.07|\n",
      "|8212157034|     152.5|\n",
      "|1649173313|    349.99|\n",
      "|8212272351|     125.0|\n",
      "|8213085879|      96.0|\n",
      "|1642911743|     430.0|\n",
      "|3024980402|     222.5|\n",
      "+----------+----------+\n",
      "only showing top 20 rows\n",
      "\n"
     ]
    }
   ],
   "source": [
    "# Register the DataFrame as a temp table using a given name\n",
    "ebay_df.registerTempTable(\"ebay_table\")\n",
    "\n",
    "# How many bids per auction?\n",
    "results = spark.sql(\"SELECT auctionid, item, count(bid) FROM ebay_table GROUP BY auctionid, item\")\n",
    "\n",
    "results.show()\n",
    "\n",
    "results = spark.sql(\"SELECT auctionid, MAX(price) FROM ebay_table GROUP BY item, auctionid\")\n",
    "results.show()"
   ]
  },
  {
   "cell_type": "code",
   "execution_count": null,
   "metadata": {},
   "outputs": [],
   "source": []
  }
 ],
 "metadata": {
  "kernelspec": {
   "display_name": "Python 2",
   "language": "python",
   "name": "python2"
  },
  "language_info": {
   "codemirror_mode": {
    "name": "ipython",
    "version": 2
   },
   "file_extension": ".py",
   "mimetype": "text/x-python",
   "name": "python",
   "nbconvert_exporter": "python",
   "pygments_lexer": "ipython2",
   "version": "2.7.12"
  }
 },
 "nbformat": 4,
 "nbformat_minor": 2
}
